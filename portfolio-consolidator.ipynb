{
 "metadata": {
  "language_info": {
   "codemirror_mode": {
    "name": "ipython",
    "version": 3
   },
   "file_extension": ".py",
   "mimetype": "text/x-python",
   "name": "python",
   "nbconvert_exporter": "python",
   "pygments_lexer": "ipython3",
   "version": "3.7.4-final"
  },
  "orig_nbformat": 2,
  "kernelspec": {
   "name": "python3",
   "display_name": "Python 3",
   "language": "python"
  }
 },
 "nbformat": 4,
 "nbformat_minor": 2,
 "cells": [
  {
   "cell_type": "code",
   "execution_count": null,
   "metadata": {},
   "outputs": [],
   "source": [
    "from util import portfolioutil\n"
   ]
  },
  {
   "cell_type": "code",
   "execution_count": null,
   "metadata": {},
   "outputs": [],
   "source": [
    "DATA_DIR = './data'\n",
    "PROC_DIR = './proc'\n",
    "\n",
    "downloads = portfolioutil.load_downloadfiles(DATA_DIR)\n",
    "\n",
    "positions = portfolioutil.consolidate_downloads(downloads)\n",
    "\n",
    "# positions = positions.reset_index(drop=True)\n",
    "\n",
    "# positions = portfolioutil.update_price(positions)\n",
    "\n",
    "positions.to_excel(\n",
    "    os.path.join(PROC_DIR, 'positions.xlsx'), \n",
    "    sheet_name='positions', \n",
    "    index=False)"
   ]
  }
 ]
}