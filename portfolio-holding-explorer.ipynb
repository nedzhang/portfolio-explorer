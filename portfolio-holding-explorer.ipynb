{
 "metadata": {
  "language_info": {
   "codemirror_mode": {
    "name": "ipython",
    "version": 3
   },
   "file_extension": ".py",
   "mimetype": "text/x-python",
   "name": "python",
   "nbconvert_exporter": "python",
   "pygments_lexer": "ipython3",
   "version": "3.7.4-final"
  },
  "orig_nbformat": 2,
  "kernelspec": {
   "name": "python3",
   "display_name": "Python 3",
   "language": "python"
  }
 },
 "nbformat": 4,
 "nbformat_minor": 2,
 "cells": [
  {
   "cell_type": "code",
   "execution_count": null,
   "metadata": {},
   "outputs": [],
   "source": [
    "import os\n",
    "import pandas as pd\n",
    "\n",
    "from util import portfolioutil\n"
   ]
  },
  {
   "cell_type": "code",
   "execution_count": null,
   "metadata": {},
   "outputs": [],
   "source": [
    "PROC_DIR = './proc'\n",
    "\n",
    "positions = pd.read_excel(os.path.join(PROC_DIR, 'positions.xlsx'), thousands=',')\n",
    "\n",
    "positions = portfolioutil.update_price(positions)\n",
    "\n",
    "holdings = portfolioutil.explore_portfolio_holdings(positions)\n",
    "\n",
    "holdings = holdings.sort_values(by=['symbol', 'institute', 'account', 'source'])\n",
    "holdings.to_excel(os.path.join(PROC_DIR, 'holding_details.xlsx'), index=False)\n"
   ]
  }
 ]
}